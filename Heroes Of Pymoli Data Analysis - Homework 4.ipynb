{
 "cells": [
  {
   "cell_type": "markdown",
   "metadata": {},
   "source": [
    "### Heroes Of Pymoli Data Analysis\n",
    "* Of the 1163 active players, the vast majority are male (84%). There also exists, a smaller, but notable proportion of female players (14%).\n",
    "\n",
    "* Our peak age demographic falls between 20-24 (44.8%) with secondary groups falling between 15-19 (18.60%) and 25-29 (13.4%).\n",
    "\n",
    "### Note\n",
    "* Instructions have been included for each segment. You do not have to follow them exactly, but they are included to help you think through the steps."
   ]
  },
  {
   "cell_type": "code",
   "execution_count": 34,
   "metadata": {},
   "outputs": [],
   "source": [
    "# Dependencies and Setup\n",
    "import pandas as pd\n",
    "import numpy as np\n",
    "\n",
    "# File to Load (Remember to Change These)\n",
    "#purchase_data.csv = \"Resources/purchase_data.csv\"\n",
    "\n",
    "# Read Purchasing File and store into Pandas data frame\n",
    "# import a CSV file and rename csv for ease of use\n",
    "data = pd.read_csv(\"purchase_data.csv\")"
   ]
  },
  {
   "cell_type": "markdown",
   "metadata": {},
   "source": [
    "##  Player Count\n",
    "\n",
    "* Display the total number of players\n",
    "* Cleaner formatting Player Count"
   ]
  },
  {
   "cell_type": "code",
   "execution_count": 35,
   "metadata": {},
   "outputs": [
    {
     "data": {
      "text/html": [
       "<div>\n",
       "<style scoped>\n",
       "    .dataframe tbody tr th:only-of-type {\n",
       "        vertical-align: middle;\n",
       "    }\n",
       "\n",
       "    .dataframe tbody tr th {\n",
       "        vertical-align: top;\n",
       "    }\n",
       "\n",
       "    .dataframe thead th {\n",
       "        text-align: right;\n",
       "    }\n",
       "</style>\n",
       "<table border=\"1\" class=\"dataframe\">\n",
       "  <thead>\n",
       "    <tr style=\"text-align: right;\">\n",
       "      <th></th>\n",
       "      <th>Total Player</th>\n",
       "    </tr>\n",
       "  </thead>\n",
       "  <tbody>\n",
       "    <tr>\n",
       "      <th>0</th>\n",
       "      <td>576</td>\n",
       "    </tr>\n",
       "  </tbody>\n",
       "</table>\n",
       "</div>"
      ],
      "text/plain": [
       "   Total Player\n",
       "0           576"
      ]
     },
     "execution_count": 35,
     "metadata": {},
     "output_type": "execute_result"
    }
   ],
   "source": [
    "SN = {'Total Player':[len(data['SN'].value_counts())]}\n",
    "SN1 = pd.DataFrame(SN)\n",
    "SN1"
   ]
  },
  {
   "cell_type": "markdown",
   "metadata": {},
   "source": [
    "## Purchasing Analysis (Total)\n",
    " \n",
    "* Run basic calculations to obtain number of unique items, average price, etc.\n",
    "* Create a summary data frame to hold the results\n",
    "* Optional: give the displayed data cleaner formatting\n",
    "* Display the summary data frame"
   ]
  },
  {
   "cell_type": "code",
   "execution_count": 36,
   "metadata": {},
   "outputs": [
    {
     "name": "stdout",
     "output_type": "stream",
     "text": [
      "183\n"
     ]
    }
   ],
   "source": [
    "it = (data['Item ID'].nunique())\n",
    "print(it)"
   ]
  },
  {
   "cell_type": "markdown",
   "metadata": {},
   "source": [
    " \n",
    "    \n",
    "\n",
    "** Average price"
   ]
  },
  {
   "cell_type": "code",
   "execution_count": 37,
   "metadata": {},
   "outputs": [
    {
     "name": "stdout",
     "output_type": "stream",
     "text": [
      "3.050987179487176\n"
     ]
    }
   ],
   "source": [
    "average_price = (data['Price'].mean())\n",
    "print(average_price)"
   ]
  },
  {
   "cell_type": "code",
   "execution_count": 38,
   "metadata": {},
   "outputs": [
    {
     "name": "stdout",
     "output_type": "stream",
     "text": [
      "780\n"
     ]
    }
   ],
   "source": [
    "purchased_number = (data['SN'].count())\n",
    "print(purchased_number)"
   ]
  },
  {
   "cell_type": "code",
   "execution_count": 39,
   "metadata": {},
   "outputs": [
    {
     "name": "stdout",
     "output_type": "stream",
     "text": [
      "2379.77\n"
     ]
    }
   ],
   "source": [
    "total_revenue = (data['Price'].sum())\n",
    "print(total_revenue)"
   ]
  },
  {
   "cell_type": "markdown",
   "metadata": {},
   "source": [
    "** Cleaner formatting Player Count"
   ]
  },
  {
   "cell_type": "code",
   "execution_count": 40,
   "metadata": {},
   "outputs": [
    {
     "data": {
      "text/html": [
       "<div>\n",
       "<style scoped>\n",
       "    .dataframe tbody tr th:only-of-type {\n",
       "        vertical-align: middle;\n",
       "    }\n",
       "\n",
       "    .dataframe tbody tr th {\n",
       "        vertical-align: top;\n",
       "    }\n",
       "\n",
       "    .dataframe thead th {\n",
       "        text-align: right;\n",
       "    }\n",
       "</style>\n",
       "<table border=\"1\" class=\"dataframe\">\n",
       "  <thead>\n",
       "    <tr style=\"text-align: right;\">\n",
       "      <th></th>\n",
       "      <th>Unique Items</th>\n",
       "      <th>Average Price</th>\n",
       "      <th>Number of Purchases</th>\n",
       "      <th>Total Purchases</th>\n",
       "    </tr>\n",
       "  </thead>\n",
       "  <tbody>\n",
       "    <tr>\n",
       "      <th>0</th>\n",
       "      <td>179</td>\n",
       "      <td>3.05</td>\n",
       "      <td>780</td>\n",
       "      <td>2379.77</td>\n",
       "    </tr>\n",
       "  </tbody>\n",
       "</table>\n",
       "</div>"
      ],
      "text/plain": [
       "   Unique Items  Average Price  Number of Purchases  Total Purchases\n",
       "0           179           3.05                  780          2379.77"
      ]
     },
     "execution_count": 40,
     "metadata": {},
     "output_type": "execute_result"
    }
   ],
   "source": [
    "#Number of Unique Items\n",
    "UniqueItems = len(data['Item Name'].value_counts())\n",
    "#Average Purchase Price\n",
    "AvPurchPrice = round(data['Price'].mean(),2)\n",
    "#Total Purchase Value\n",
    "TotalPurchases = round(data['Price'].sum(),2)\n",
    "#Purchasing Analysis (Total)\n",
    "PurchasingAnalysis= {'Unique Items':[UniqueItems],'Average Price':[AvPurchPrice],'Number of Purchases': [len(data)],'Total Purchases':[TotalPurchases]}\n",
    "PurchasingAnalysis1 =pd.DataFrame(PurchasingAnalysis)\n",
    "PurchasingAnalysis1 = PurchasingAnalysis1[['Unique Items','Average Price','Number of Purchases','Total Purchases']]\n",
    "PurchasingAnalysis1"
   ]
  },
  {
   "cell_type": "markdown",
   "metadata": {},
   "source": [
    "## Gender Demographics\n",
    "* Percentage and Count of Male Players\n",
    "* Percentage and Count of Female Players\n",
    "* Percentage and Count of Other / Non-Disclosed"
   ]
  },
  {
   "cell_type": "code",
   "execution_count": 41,
   "metadata": {},
   "outputs": [
    {
     "data": {
      "text/html": [
       "<div>\n",
       "<style scoped>\n",
       "    .dataframe tbody tr th:only-of-type {\n",
       "        vertical-align: middle;\n",
       "    }\n",
       "\n",
       "    .dataframe tbody tr th {\n",
       "        vertical-align: top;\n",
       "    }\n",
       "\n",
       "    .dataframe thead th {\n",
       "        text-align: right;\n",
       "    }\n",
       "</style>\n",
       "<table border=\"1\" class=\"dataframe\">\n",
       "  <thead>\n",
       "    <tr style=\"text-align: right;\">\n",
       "      <th></th>\n",
       "      <th>Gender Count</th>\n",
       "      <th>Percent of Players</th>\n",
       "    </tr>\n",
       "    <tr>\n",
       "      <th>Gender</th>\n",
       "      <th></th>\n",
       "      <th></th>\n",
       "    </tr>\n",
       "  </thead>\n",
       "  <tbody>\n",
       "    <tr>\n",
       "      <th>Male</th>\n",
       "      <td>484</td>\n",
       "      <td>84.03</td>\n",
       "    </tr>\n",
       "    <tr>\n",
       "      <th>Female</th>\n",
       "      <td>81</td>\n",
       "      <td>14.06</td>\n",
       "    </tr>\n",
       "    <tr>\n",
       "      <th>Other</th>\n",
       "      <td>11</td>\n",
       "      <td>1.91</td>\n",
       "    </tr>\n",
       "  </tbody>\n",
       "</table>\n",
       "</div>"
      ],
      "text/plain": [
       "        Gender Count  Percent of Players\n",
       "Gender                                  \n",
       "Male             484               84.03\n",
       "Female            81               14.06\n",
       "Other             11                1.91"
      ]
     },
     "execution_count": 41,
     "metadata": {},
     "output_type": "execute_result"
    }
   ],
   "source": [
    "total_count = len(data[\"SN\"].unique())\n",
    "\n",
    "#Percentage and Count of Male Players\n",
    "#Male = data.loc[data['Gender'] =='Male',:]\n",
    "Male1= data.groupby(['Gender']).get_group(('Male'))\n",
    "Male2= len(Male1['SN'].unique())\n",
    "MalePercent= round((Male2/total_count)*100,2)\n",
    "\n",
    "#Percentage and Count of Female Players\n",
    "Female1= data.groupby(['Gender']).get_group(('Female'))\n",
    "Female2= len(Female1['SN'].unique())\n",
    "FemalePercent= round((Female2/total_count)*100,2)\n",
    "\n",
    "#Percentage and Count of Other / Non-Disclosed Players\n",
    "Other1= data.groupby(['Gender']).get_group(('Other / Non-Disclosed'))\n",
    "Other2= len(Other1['SN'].unique())\n",
    "OtherPercent= round((Other2/total_count)*100,2)\n",
    "\n",
    "#Make it into a Gender DataFrame\n",
    "gender1 = {'Percent of Players':[MalePercent,FemalePercent,OtherPercent],'Gender':[\"Male\",'Female','Other'],'Gender Count':[Male2,Female2,Other2]}\n",
    "gender2 =  pd.DataFrame(gender1)\n",
    "gender2= gender2.set_index('Gender')\n",
    "gender2= gender2[['Gender Count','Percent of Players']]\n",
    "gender2"
   ]
  },
  {
   "cell_type": "markdown",
   "metadata": {},
   "source": [
    "## Purchasing Analysis (Gender)\n",
    "\n",
    "* Run basic calculations to obtain number of unique items, average price, etc.\n",
    "* Create a summary data frame to hold the results\n",
    "* Optional: give the displayed data cleaner formatting\n",
    "* Display the summary data frame\n",
    "\n",
    "\n",
    "** Purchasing Analysis (Gender)"
   ]
  },
  {
   "cell_type": "code",
   "execution_count": 42,
   "metadata": {},
   "outputs": [
    {
     "data": {
      "text/html": [
       "<div>\n",
       "<style scoped>\n",
       "    .dataframe tbody tr th:only-of-type {\n",
       "        vertical-align: middle;\n",
       "    }\n",
       "\n",
       "    .dataframe tbody tr th {\n",
       "        vertical-align: top;\n",
       "    }\n",
       "\n",
       "    .dataframe thead th {\n",
       "        text-align: right;\n",
       "    }\n",
       "</style>\n",
       "<table border=\"1\" class=\"dataframe\">\n",
       "  <thead>\n",
       "    <tr style=\"text-align: right;\">\n",
       "      <th></th>\n",
       "      <th>Purchase Count</th>\n",
       "      <th>Average Purchase Price</th>\n",
       "      <th>Total Purchase Value</th>\n",
       "      <th>Normalized Totals</th>\n",
       "    </tr>\n",
       "    <tr>\n",
       "      <th>Gender</th>\n",
       "      <th></th>\n",
       "      <th></th>\n",
       "      <th></th>\n",
       "      <th></th>\n",
       "    </tr>\n",
       "  </thead>\n",
       "  <tbody>\n",
       "    <tr>\n",
       "      <th>Male</th>\n",
       "      <td>652</td>\n",
       "      <td>3.02</td>\n",
       "      <td>1967.64</td>\n",
       "      <td>3.02</td>\n",
       "    </tr>\n",
       "    <tr>\n",
       "      <th>Female</th>\n",
       "      <td>113</td>\n",
       "      <td>3.20</td>\n",
       "      <td>361.94</td>\n",
       "      <td>3.20</td>\n",
       "    </tr>\n",
       "    <tr>\n",
       "      <th>Other</th>\n",
       "      <td>15</td>\n",
       "      <td>3.35</td>\n",
       "      <td>50.19</td>\n",
       "      <td>3.35</td>\n",
       "    </tr>\n",
       "  </tbody>\n",
       "</table>\n",
       "</div>"
      ],
      "text/plain": [
       "        Purchase Count  Average Purchase Price  Total Purchase Value  \\\n",
       "Gender                                                                 \n",
       "Male               652                    3.02               1967.64   \n",
       "Female             113                    3.20                361.94   \n",
       "Other               15                    3.35                 50.19   \n",
       "\n",
       "        Normalized Totals  \n",
       "Gender                     \n",
       "Male                 3.02  \n",
       "Female               3.20  \n",
       "Other                3.35  "
      ]
     },
     "execution_count": 42,
     "metadata": {},
     "output_type": "execute_result"
    }
   ],
   "source": [
    "\n",
    "#Purchasing Analysis (Gender)\n",
    "\n",
    "#Purchase Count\n",
    "MalePurchaseCount = len(Male1)\n",
    "FemalePurchaseCount = len(Female1)\n",
    "OtherPurchaseCount = len(Other1)\n",
    "\n",
    "#Average Purchase Price\n",
    "MaleAvgPrice =round((Male1[\"Price\"].sum())/len(Male1[\"Price\"]),2)\n",
    "FemaleAvgPrice= round((Female1[\"Price\"].sum())/len(Female1[\"Price\"]),2)\n",
    "OtherAvgPrice= round((Other1[\"Price\"].sum())/len(Other1[\"Price\"]),2)\n",
    "\n",
    "\n",
    "#Total Purchase Value\n",
    "MaleTotalPurchase = round(Male1['Price'].sum(),2)\n",
    "FemaleTotalPurchase = round(Female1['Price'].sum(),2)\n",
    "OtherTotalPurchase = round(Other1['Price'].sum(),2)\n",
    "\n",
    "# Normalised Totals\n",
    "# male/female/Other\n",
    "NormMale = round((MaleTotalPurchase/MalePurchaseCount), 2)\n",
    "NormFemale = round((FemaleTotalPurchase/FemalePurchaseCount), 2)\n",
    "NormOther = round((OtherTotalPurchase/OtherPurchaseCount), 2)\n",
    "\n",
    "PurchasedBySex = {\"Purchase Count\":[MalePurchaseCount,FemalePurchaseCount,OtherPurchaseCount],\n",
    "                    \"Gender\":[\"Male\",\"Female\",\"Other\"],\n",
    "                    \"Average Purchase Price\":[MaleAvgPrice,FemaleAvgPrice,OtherAvgPrice],\n",
    "                    \"Total Purchase Value\":[MaleTotalPurchase,FemaleTotalPurchase,OtherTotalPurchase],\n",
    "                \"Normalized Totals\":[NormMale,NormFemale,NormOther]}\n",
    "PurchasedBySex1 = pd.DataFrame(PurchasedBySex)\n",
    "PurchasedBySex1 = PurchasedBySex1.set_index('Gender')\n",
    "PurchasedBySex1= PurchasedBySex1[['Purchase Count','Average Purchase Price','Total Purchase Value','Normalized Totals']]\n",
    "PurchasedBySex1"
   ]
  },
  {
   "cell_type": "markdown",
   "metadata": {},
   "source": [
    "## Age Demographics\n",
    "\n",
    "* Establish bins for ages\n",
    "* Categorize the existing players using the age bins. Hint: use pd.cut()\n",
    "* Calculate the numbers and percentages by age group\n",
    "* Create a summary data frame to hold the results\n",
    "* Optional: round the percentage column to two decimal points\n",
    "* Display Age Demographics Table"
   ]
  },
  {
   "cell_type": "code",
   "execution_count": 43,
   "metadata": {},
   "outputs": [
    {
     "name": "stdout",
     "output_type": "stream",
     "text": [
      "45\n",
      "7\n"
     ]
    }
   ],
   "source": [
    "#Age Demographics\n",
    "MaxAge = data['Age'].max()\n",
    "print(MaxAge)\n",
    "\n",
    "#Age Demographics\n",
    "MinAge = data['Age'].min()\n",
    "print(MinAge)"
   ]
  },
  {
   "cell_type": "markdown",
   "metadata": {},
   "source": [
    "* Categorize the existing players using the age bins. Hint: use pd.cut()\n",
    "\n",
    "pandas.cut(x, bins, right=True, labels=None, retbins=False, precision=3, include_lowest=False, duplicates='raise')"
   ]
  },
  {
   "cell_type": "code",
   "execution_count": 44,
   "metadata": {},
   "outputs": [],
   "source": [
    "#bins of 4 years (i.e. <10, 10-14, 15-19, etc.)\n",
    "bins = [0,10,14,19,24,29,34,39,46]\n",
    "Agelabels = [\"<10\",\"10-14\",\"15-19\",\"20-24\",\"25-29\",\"30-34\",\"35-39\",\"40+\"]\n",
    "data['Age Summary'] = pd.cut(data['Age'],bins,labels= Agelabels)"
   ]
  },
  {
   "cell_type": "code",
   "execution_count": 45,
   "metadata": {},
   "outputs": [
    {
     "data": {
      "text/plain": [
       "Index(['Purchase ID', 'SN', 'Age', 'Gender', 'Item ID', 'Item Name', 'Price',\n",
       "       'Age Summary'],\n",
       "      dtype='object')"
      ]
     },
     "execution_count": 45,
     "metadata": {},
     "output_type": "execute_result"
    }
   ],
   "source": [
    "data.columns\n"
   ]
  },
  {
   "cell_type": "code",
   "execution_count": 46,
   "metadata": {},
   "outputs": [],
   "source": [
    "#Purchase Count\n",
    "Bin1 = data.groupby(['Age Summary']).get_group(('<10'))\n",
    "pc1 = len(Bin1['SN'].unique())\n",
    "PerBin1 = (pc1/total_count)*100\n",
    "\n",
    "Bin2 = data.groupby(['Age Summary']).get_group(('10-14'))\n",
    "pc2 = len(Bin2['SN'].unique())\n",
    "PerBin2 = (pc2/total_count)*100\n",
    "\n",
    "Bin3 = data.groupby(['Age Summary']).get_group(('15-19'))\n",
    "pc3 = len(Bin3['SN'].unique())\n",
    "PerBin3 = (pc3/total_count)*100\n",
    "\n",
    "Bin4 = data.groupby(['Age Summary']).get_group(('20-24'))\n",
    "pc4 = len(Bin4['SN'].unique())\n",
    "PerBin4 = (pc4/total_count)*100\n",
    "\n",
    "Bin5 = data.groupby(['Age Summary']).get_group(('25-29'))\n",
    "pc5 = len(Bin5['SN'].unique())\n",
    "PerBin5 = (pc5/total_count)*100\n",
    "\n",
    "Bin6 = data.groupby(['Age Summary']).get_group(('30-34'))\n",
    "pc6 = len(Bin6['SN'].unique())\n",
    "PerBin6 = (pc6/total_count)*100\n",
    "\n",
    "Bin7 = data.groupby(['Age Summary']).get_group(('35-39'))\n",
    "pc7 = len(Bin7['SN'].unique())\n",
    "PerBin7 = (pc7/total_count)*100\n",
    "\n",
    "Bin8 = data.groupby(['Age Summary']).get_group(('40+'))\n",
    "pc8 = len(Bin8['SN'].unique())\n",
    "PerBin8 = (pc8/total_count)*100"
   ]
  },
  {
   "cell_type": "markdown",
   "metadata": {},
   "source": [
    "* Calculate the numbers and percentages by age group"
   ]
  },
  {
   "cell_type": "code",
   "execution_count": 47,
   "metadata": {},
   "outputs": [
    {
     "name": "stdout",
     "output_type": "stream",
     "text": [
      "[24, 15, 107, 258, 77, 52, 31, 12]\n"
     ]
    },
    {
     "data": {
      "text/html": [
       "<div>\n",
       "<style scoped>\n",
       "    .dataframe tbody tr th:only-of-type {\n",
       "        vertical-align: middle;\n",
       "    }\n",
       "\n",
       "    .dataframe tbody tr th {\n",
       "        vertical-align: top;\n",
       "    }\n",
       "\n",
       "    .dataframe thead th {\n",
       "        text-align: right;\n",
       "    }\n",
       "</style>\n",
       "<table border=\"1\" class=\"dataframe\">\n",
       "  <thead>\n",
       "    <tr style=\"text-align: right;\">\n",
       "      <th></th>\n",
       "      <th>Total Player Count</th>\n",
       "      <th>Percentage Of Players</th>\n",
       "    </tr>\n",
       "    <tr>\n",
       "      <th>Age Summary</th>\n",
       "      <th></th>\n",
       "      <th></th>\n",
       "    </tr>\n",
       "  </thead>\n",
       "  <tbody>\n",
       "    <tr>\n",
       "      <th>&lt;10</th>\n",
       "      <td>24</td>\n",
       "      <td>4.17</td>\n",
       "    </tr>\n",
       "    <tr>\n",
       "      <th>10-14</th>\n",
       "      <td>15</td>\n",
       "      <td>2.60</td>\n",
       "    </tr>\n",
       "    <tr>\n",
       "      <th>15-19</th>\n",
       "      <td>107</td>\n",
       "      <td>18.58</td>\n",
       "    </tr>\n",
       "    <tr>\n",
       "      <th>20-24</th>\n",
       "      <td>258</td>\n",
       "      <td>44.79</td>\n",
       "    </tr>\n",
       "    <tr>\n",
       "      <th>25-29</th>\n",
       "      <td>77</td>\n",
       "      <td>13.37</td>\n",
       "    </tr>\n",
       "    <tr>\n",
       "      <th>30-34</th>\n",
       "      <td>52</td>\n",
       "      <td>9.03</td>\n",
       "    </tr>\n",
       "    <tr>\n",
       "      <th>35-39</th>\n",
       "      <td>31</td>\n",
       "      <td>5.38</td>\n",
       "    </tr>\n",
       "    <tr>\n",
       "      <th>40+</th>\n",
       "      <td>12</td>\n",
       "      <td>2.08</td>\n",
       "    </tr>\n",
       "  </tbody>\n",
       "</table>\n",
       "</div>"
      ],
      "text/plain": [
       "             Total Player Count  Percentage Of Players\n",
       "Age Summary                                           \n",
       "<10                          24                   4.17\n",
       "10-14                        15                   2.60\n",
       "15-19                       107                  18.58\n",
       "20-24                       258                  44.79\n",
       "25-29                        77                  13.37\n",
       "30-34                        52                   9.03\n",
       "35-39                        31                   5.38\n",
       "40+                          12                   2.08"
      ]
     },
     "execution_count": 47,
     "metadata": {},
     "output_type": "execute_result"
    }
   ],
   "source": [
    "PlayerBinsCount=[pc1,pc2,pc3,pc4,pc5,pc6,pc7,pc8]\n",
    "PercentBins= [PerBin1,PerBin2,PerBin3,PerBin4,PerBin5,PerBin6,PerBin7,PerBin8]\n",
    "PercentBins= [round(x,2) for x in PercentBins]\n",
    "print(PlayerBinsCount)\n",
    "\n",
    "AgeDem = {\"Age Summary\":Agelabels,\"Total Player Count\":PlayerBinsCount,\"Percentage Of Players\":PercentBins}\n",
    "AgeDem1 = pd.DataFrame(AgeDem)\n",
    "AgeDem1 = AgeDem1.set_index('Age Summary')\n",
    "AgeDem1"
   ]
  },
  {
   "cell_type": "markdown",
   "metadata": {},
   "source": [
    "## Purchasing Analysis (Age)\n",
    "\n",
    "* Bin the purchase_data data frame by age\n",
    "* Run basic calculations to obtain purchase count, avg. purchase price, avg. purchase total per person etc. in the table below\n",
    "* Create a summary data frame to hold the results\n",
    "* Optional: give the displayed data cleaner formatting\n",
    "* Display the summary data frame"
   ]
  },
  {
   "cell_type": "code",
   "execution_count": 49,
   "metadata": {},
   "outputs": [],
   "source": [
    "#Age Demographics\n",
    "MaxAge = data['Age'].max()\n",
    "#Age Demographics\n",
    "MinAge = data['Age'].min()"
   ]
  },
  {
   "cell_type": "code",
   "execution_count": 52,
   "metadata": {},
   "outputs": [],
   "source": [
    "#bins of 4 years (i.e. <10, 10-14, 15-19, etc.)\n",
    "bins = [0,10,14,19,24,29,34,39,46]\n",
    "Agelabels = [\"<10\",\"10-14\",\"15-19\",\"20-24\",\"25-29\",\"30-34\",\"35-39\",\"40+\"]\n",
    "data['Age Summary'] = pd.cut(data['Age'],bins,labels= Agelabels)\n",
    "\n",
    "\n",
    "PlayerBinsCount=[pc1,pc2,pc3,pc4,pc5,pc6,pc7,pc8]\n",
    "PercentBins= [PerBin1,PerBin2,PerBin3,PerBin4,PerBin5,PerBin6,PerBin7,PerBin8]\n",
    "PercentBins= [round(x,2) for x in PercentBins]"
   ]
  },
  {
   "cell_type": "code",
   "execution_count": 53,
   "metadata": {},
   "outputs": [],
   "source": [
    "#Purchase Count\n",
    "Bin1 = data.groupby(['Age Summary']).get_group(('<10'))\n",
    "pc1 = len(Bin1['SN'].unique())\n",
    "PerBin1 = (pc1/total_count)*100\n",
    "\n",
    "Bin2 = data.groupby(['Age Summary']).get_group(('10-14'))\n",
    "pc2 = len(Bin2['SN'].unique())\n",
    "PerBin2 = (pc2/total_count)*100\n",
    "\n",
    "Bin3 = data.groupby(['Age Summary']).get_group(('15-19'))\n",
    "pc3 = len(Bin3['SN'].unique())\n",
    "PerBin3 = (pc3/total_count)*100\n",
    "\n",
    "Bin4 = data.groupby(['Age Summary']).get_group(('20-24'))\n",
    "pc4 = len(Bin4['SN'].unique())\n",
    "PerBin4 = (pc4/total_count)*100\n",
    "\n",
    "Bin5 = data.groupby(['Age Summary']).get_group(('25-29'))\n",
    "pc5 = len(Bin5['SN'].unique())\n",
    "PerBin5 = (pc5/total_count)*100\n",
    "\n",
    "Bin6 = data.groupby(['Age Summary']).get_group(('30-34'))\n",
    "pc6 = len(Bin6['SN'].unique())\n",
    "PerBin6 = (pc6/total_count)*100\n",
    "\n",
    "Bin7 = data.groupby(['Age Summary']).get_group(('35-39'))\n",
    "pc7 = len(Bin7['SN'].unique())\n",
    "PerBin7 = (pc7/total_count)*100\n",
    "\n",
    "Bin8 = data.groupby(['Age Summary']).get_group(('40+'))\n",
    "pc8 = len(Bin8['SN'].unique())\n",
    "PerBin8 = (pc8/total_count)*100"
   ]
  },
  {
   "cell_type": "code",
   "execution_count": 51,
   "metadata": {},
   "outputs": [
    {
     "data": {
      "text/plain": [
       "Index(['Purchase ID', 'SN', 'Age', 'Gender', 'Item ID', 'Item Name', 'Price',\n",
       "       'Age Summary'],\n",
       "      dtype='object')"
      ]
     },
     "execution_count": 51,
     "metadata": {},
     "output_type": "execute_result"
    }
   ],
   "source": [
    "data.columns"
   ]
  },
  {
   "cell_type": "code",
   "execution_count": 55,
   "metadata": {},
   "outputs": [
    {
     "data": {
      "text/html": [
       "<div>\n",
       "<style scoped>\n",
       "    .dataframe tbody tr th:only-of-type {\n",
       "        vertical-align: middle;\n",
       "    }\n",
       "\n",
       "    .dataframe tbody tr th {\n",
       "        vertical-align: top;\n",
       "    }\n",
       "\n",
       "    .dataframe thead th {\n",
       "        text-align: right;\n",
       "    }\n",
       "</style>\n",
       "<table border=\"1\" class=\"dataframe\">\n",
       "  <thead>\n",
       "    <tr style=\"text-align: right;\">\n",
       "      <th></th>\n",
       "      <th>Total Player Count</th>\n",
       "      <th>Percentage Of Players</th>\n",
       "    </tr>\n",
       "    <tr>\n",
       "      <th>Age Summary</th>\n",
       "      <th></th>\n",
       "      <th></th>\n",
       "    </tr>\n",
       "  </thead>\n",
       "  <tbody>\n",
       "    <tr>\n",
       "      <th>&lt;10</th>\n",
       "      <td>24</td>\n",
       "      <td>4.17</td>\n",
       "    </tr>\n",
       "    <tr>\n",
       "      <th>10-14</th>\n",
       "      <td>15</td>\n",
       "      <td>2.60</td>\n",
       "    </tr>\n",
       "    <tr>\n",
       "      <th>15-19</th>\n",
       "      <td>107</td>\n",
       "      <td>18.58</td>\n",
       "    </tr>\n",
       "    <tr>\n",
       "      <th>20-24</th>\n",
       "      <td>258</td>\n",
       "      <td>44.79</td>\n",
       "    </tr>\n",
       "    <tr>\n",
       "      <th>25-29</th>\n",
       "      <td>77</td>\n",
       "      <td>13.37</td>\n",
       "    </tr>\n",
       "    <tr>\n",
       "      <th>30-34</th>\n",
       "      <td>52</td>\n",
       "      <td>9.03</td>\n",
       "    </tr>\n",
       "    <tr>\n",
       "      <th>35-39</th>\n",
       "      <td>31</td>\n",
       "      <td>5.38</td>\n",
       "    </tr>\n",
       "    <tr>\n",
       "      <th>40+</th>\n",
       "      <td>12</td>\n",
       "      <td>2.08</td>\n",
       "    </tr>\n",
       "  </tbody>\n",
       "</table>\n",
       "</div>"
      ],
      "text/plain": [
       "             Total Player Count  Percentage Of Players\n",
       "Age Summary                                           \n",
       "<10                          24                   4.17\n",
       "10-14                        15                   2.60\n",
       "15-19                       107                  18.58\n",
       "20-24                       258                  44.79\n",
       "25-29                        77                  13.37\n",
       "30-34                        52                   9.03\n",
       "35-39                        31                   5.38\n",
       "40+                          12                   2.08"
      ]
     },
     "execution_count": 55,
     "metadata": {},
     "output_type": "execute_result"
    }
   ],
   "source": [
    "AgeDem = {\"Age Summary\":Agelabels,\"Total Player Count\":PlayerBinsCount,\"Percentage Of Players\":PercentBins}\n",
    "AgeDem1 = pd.DataFrame(AgeDem)\n",
    "AgeDem1 = AgeDem1.set_index('Age Summary')\n",
    "AgeDem1"
   ]
  },
  {
   "cell_type": "markdown",
   "metadata": {},
   "source": [
    "## Top Spenders\n",
    "\n",
    "* Run basic calculations to obtain the results in the table below\n",
    "* Create a summary data frame to hold the results\n",
    "* Sort the total purchase value column in descending order\n",
    "* Optional: give the displayed data cleaner formatting\n",
    "* Display a preview of the summary data frame"
   ]
  },
  {
   "cell_type": "code",
   "execution_count": 56,
   "metadata": {},
   "outputs": [
    {
     "data": {
      "text/html": [
       "<div>\n",
       "<style scoped>\n",
       "    .dataframe tbody tr th:only-of-type {\n",
       "        vertical-align: middle;\n",
       "    }\n",
       "\n",
       "    .dataframe tbody tr th {\n",
       "        vertical-align: top;\n",
       "    }\n",
       "\n",
       "    .dataframe thead th {\n",
       "        text-align: right;\n",
       "    }\n",
       "</style>\n",
       "<table border=\"1\" class=\"dataframe\">\n",
       "  <thead>\n",
       "    <tr style=\"text-align: right;\">\n",
       "      <th></th>\n",
       "      <th>Purchase Count</th>\n",
       "      <th>Average Purchase Price</th>\n",
       "      <th>Total Purchase Value</th>\n",
       "    </tr>\n",
       "    <tr>\n",
       "      <th>SN</th>\n",
       "      <th></th>\n",
       "      <th></th>\n",
       "      <th></th>\n",
       "    </tr>\n",
       "  </thead>\n",
       "  <tbody>\n",
       "    <tr>\n",
       "      <th>[Lisosia93]</th>\n",
       "      <td>5</td>\n",
       "      <td>3.79</td>\n",
       "      <td>18.96</td>\n",
       "    </tr>\n",
       "    <tr>\n",
       "      <th>[Idastidru52]</th>\n",
       "      <td>4</td>\n",
       "      <td>3.86</td>\n",
       "      <td>15.45</td>\n",
       "    </tr>\n",
       "    <tr>\n",
       "      <th>[Chamjask73]</th>\n",
       "      <td>3</td>\n",
       "      <td>4.61</td>\n",
       "      <td>13.83</td>\n",
       "    </tr>\n",
       "    <tr>\n",
       "      <th>[Iral74]</th>\n",
       "      <td>4</td>\n",
       "      <td>3.40</td>\n",
       "      <td>13.62</td>\n",
       "    </tr>\n",
       "    <tr>\n",
       "      <th>[Iskadarya95]</th>\n",
       "      <td>3</td>\n",
       "      <td>4.37</td>\n",
       "      <td>13.10</td>\n",
       "    </tr>\n",
       "  </tbody>\n",
       "</table>\n",
       "</div>"
      ],
      "text/plain": [
       "               Purchase Count  Average Purchase Price  Total Purchase Value\n",
       "SN                                                                         \n",
       "[Lisosia93]                 5                    3.79                 18.96\n",
       "[Idastidru52]               4                    3.86                 15.45\n",
       "[Chamjask73]                3                    4.61                 13.83\n",
       "[Iral74]                    4                    3.40                 13.62\n",
       "[Iskadarya95]               3                    4.37                 13.10"
      ]
     },
     "execution_count": 56,
     "metadata": {},
     "output_type": "execute_result"
    }
   ],
   "source": [
    "#SN\n",
    "SN = data.groupby(data[\"SN\"])\n",
    "ScreenName = SN[\"SN\"].unique()\n",
    "\n",
    "#Purchase Count\n",
    "SNCount = SN['Age'].count()\n",
    "\n",
    "#Average Purchase Price\n",
    "SNAverage = round(SN['Price'].mean(),2)\n",
    "\n",
    "#Total Purchase Value\n",
    "SNTotal = SN['Price'].sum()\n",
    "\n",
    "\n",
    "TopSpend = {\"SN\":ScreenName,\"Purchase Count\":SNCount,\n",
    "                 \"Average Purchase Price\":SNAverage,\"Total Purchase Value\":SNTotal}\n",
    "TopSpend1= pd.DataFrame(TopSpend)\n",
    "TopSpend1= TopSpend1.set_index('SN')\n",
    "TopSpend1 = TopSpend1.sort_values(\"Total Purchase Value\",ascending=False)\n",
    "TopSpend1 = TopSpend1[['Purchase Count', 'Average Purchase Price', 'Total Purchase Value']]\n",
    "\n",
    "TopSpend1.iloc[:5]"
   ]
  },
  {
   "cell_type": "markdown",
   "metadata": {},
   "source": [
    "## Most Popular Items\n",
    "\n",
    "* Retrieve the Item ID, Item Name, and Item Price columns\n",
    "\n",
    "* Group by Item ID and Item Name. Perform calculations to obtain purchase count, item price, and total purchase value\n",
    "\n",
    "* Create a summary data frame to hold the results\n",
    "\n",
    "* Sort the purchase count column in descending order\n",
    "\n",
    "* Optional: give the displayed data cleaner formatting\n",
    "\n",
    "* Display a preview of the summary data frame"
   ]
  },
  {
   "cell_type": "code",
   "execution_count": 57,
   "metadata": {},
   "outputs": [],
   "source": [
    "#Item ID\n",
    "ItemId = data.groupby(data['Item ID'])\n",
    "Items = ItemId['Item ID'].unique()\n",
    "#Item Name\n",
    "\n",
    "ItemName = ItemId[\"Item Name\"].unique()"
   ]
  },
  {
   "cell_type": "code",
   "execution_count": 58,
   "metadata": {},
   "outputs": [],
   "source": [
    "#Purchase Count\n",
    "ItemPurCount = ItemId['Age'].count()\n",
    "\n",
    "#Item Price\n",
    "ItemPrice= ItemId['Price'].unique()"
   ]
  },
  {
   "cell_type": "code",
   "execution_count": 59,
   "metadata": {},
   "outputs": [
    {
     "data": {
      "text/html": [
       "<div>\n",
       "<style scoped>\n",
       "    .dataframe tbody tr th:only-of-type {\n",
       "        vertical-align: middle;\n",
       "    }\n",
       "\n",
       "    .dataframe tbody tr th {\n",
       "        vertical-align: top;\n",
       "    }\n",
       "\n",
       "    .dataframe thead th {\n",
       "        text-align: right;\n",
       "    }\n",
       "</style>\n",
       "<table border=\"1\" class=\"dataframe\">\n",
       "  <thead>\n",
       "    <tr style=\"text-align: right;\">\n",
       "      <th></th>\n",
       "      <th>Item Name</th>\n",
       "      <th>Item Count</th>\n",
       "      <th>Item Price</th>\n",
       "      <th>Total Purchase</th>\n",
       "    </tr>\n",
       "    <tr>\n",
       "      <th>Item ID</th>\n",
       "      <th></th>\n",
       "      <th></th>\n",
       "      <th></th>\n",
       "      <th></th>\n",
       "    </tr>\n",
       "  </thead>\n",
       "  <tbody>\n",
       "    <tr>\n",
       "      <th>[178]</th>\n",
       "      <td>[Oathbreaker, Last Hope of the Breaking Storm]</td>\n",
       "      <td>12</td>\n",
       "      <td>[4.23]</td>\n",
       "      <td>50.76</td>\n",
       "    </tr>\n",
       "    <tr>\n",
       "      <th>[145]</th>\n",
       "      <td>[Fiery Glass Crusader]</td>\n",
       "      <td>9</td>\n",
       "      <td>[4.58]</td>\n",
       "      <td>41.22</td>\n",
       "    </tr>\n",
       "    <tr>\n",
       "      <th>[108]</th>\n",
       "      <td>[Extraction, Quickblade Of Trembling Hands]</td>\n",
       "      <td>9</td>\n",
       "      <td>[3.53]</td>\n",
       "      <td>31.77</td>\n",
       "    </tr>\n",
       "    <tr>\n",
       "      <th>[82]</th>\n",
       "      <td>[Nirvana]</td>\n",
       "      <td>9</td>\n",
       "      <td>[4.9]</td>\n",
       "      <td>44.10</td>\n",
       "    </tr>\n",
       "    <tr>\n",
       "      <th>[19]</th>\n",
       "      <td>[Pursuit, Cudgel of Necromancy]</td>\n",
       "      <td>8</td>\n",
       "      <td>[1.02]</td>\n",
       "      <td>8.16</td>\n",
       "    </tr>\n",
       "  </tbody>\n",
       "</table>\n",
       "</div>"
      ],
      "text/plain": [
       "                                              Item Name  Item Count  \\\n",
       "Item ID                                                               \n",
       "[178]    [Oathbreaker, Last Hope of the Breaking Storm]          12   \n",
       "[145]                            [Fiery Glass Crusader]           9   \n",
       "[108]       [Extraction, Quickblade Of Trembling Hands]           9   \n",
       "[82]                                          [Nirvana]           9   \n",
       "[19]                    [Pursuit, Cudgel of Necromancy]           8   \n",
       "\n",
       "        Item Price  Total Purchase  \n",
       "Item ID                             \n",
       "[178]       [4.23]           50.76  \n",
       "[145]       [4.58]           41.22  \n",
       "[108]       [3.53]           31.77  \n",
       "[82]         [4.9]           44.10  \n",
       "[19]        [1.02]            8.16  "
      ]
     },
     "execution_count": 59,
     "metadata": {},
     "output_type": "execute_result"
    }
   ],
   "source": [
    "#Total Purchase Value\n",
    "ItemTotalPurchase = ItemId['Price'].sum()\n",
    "\n",
    "ItemTable = {'Item ID':Items,'Item Name':ItemName,'Item Price':ItemPrice,'Item Count':ItemPurCount,'Total Purchase':ItemTotalPurchase}\n",
    "ItemTable1 = pd.DataFrame(ItemTable)\n",
    "ItemTable1 = ItemTable1.set_index('Item ID')\n",
    "ItemTable1= ItemTable1.sort_values('Item Count', ascending=False)\n",
    "ItemTable1 = ItemTable1[['Item Name','Item Count','Item Price','Total Purchase']]\n",
    "ItemTable1.iloc[:5]"
   ]
  },
  {
   "cell_type": "markdown",
   "metadata": {},
   "source": [
    "## Most Profitable Items\n",
    "\n",
    "* Sort the above table by total purchase value in descending order\n",
    "* Optional: give the displayed data cleaner formatting\n",
    "* Display a preview of the data frame"
   ]
  },
  {
   "cell_type": "code",
   "execution_count": 61,
   "metadata": {},
   "outputs": [
    {
     "data": {
      "text/html": [
       "<div>\n",
       "<style scoped>\n",
       "    .dataframe tbody tr th:only-of-type {\n",
       "        vertical-align: middle;\n",
       "    }\n",
       "\n",
       "    .dataframe tbody tr th {\n",
       "        vertical-align: top;\n",
       "    }\n",
       "\n",
       "    .dataframe thead th {\n",
       "        text-align: right;\n",
       "    }\n",
       "</style>\n",
       "<table border=\"1\" class=\"dataframe\">\n",
       "  <thead>\n",
       "    <tr style=\"text-align: right;\">\n",
       "      <th></th>\n",
       "      <th>Item Name</th>\n",
       "      <th>Item Count</th>\n",
       "      <th>Item Price</th>\n",
       "      <th>Total Purchase</th>\n",
       "    </tr>\n",
       "    <tr>\n",
       "      <th>Item ID</th>\n",
       "      <th></th>\n",
       "      <th></th>\n",
       "      <th></th>\n",
       "      <th></th>\n",
       "    </tr>\n",
       "  </thead>\n",
       "  <tbody>\n",
       "    <tr>\n",
       "      <th>[178]</th>\n",
       "      <td>[Oathbreaker, Last Hope of the Breaking Storm]</td>\n",
       "      <td>12</td>\n",
       "      <td>[4.23]</td>\n",
       "      <td>50.76</td>\n",
       "    </tr>\n",
       "    <tr>\n",
       "      <th>[82]</th>\n",
       "      <td>[Nirvana]</td>\n",
       "      <td>9</td>\n",
       "      <td>[4.9]</td>\n",
       "      <td>44.10</td>\n",
       "    </tr>\n",
       "    <tr>\n",
       "      <th>[145]</th>\n",
       "      <td>[Fiery Glass Crusader]</td>\n",
       "      <td>9</td>\n",
       "      <td>[4.58]</td>\n",
       "      <td>41.22</td>\n",
       "    </tr>\n",
       "    <tr>\n",
       "      <th>[92]</th>\n",
       "      <td>[Final Critic]</td>\n",
       "      <td>8</td>\n",
       "      <td>[4.88]</td>\n",
       "      <td>39.04</td>\n",
       "    </tr>\n",
       "    <tr>\n",
       "      <th>[103]</th>\n",
       "      <td>[Singed Scalpel]</td>\n",
       "      <td>8</td>\n",
       "      <td>[4.35]</td>\n",
       "      <td>34.80</td>\n",
       "    </tr>\n",
       "  </tbody>\n",
       "</table>\n",
       "</div>"
      ],
      "text/plain": [
       "                                              Item Name  Item Count  \\\n",
       "Item ID                                                               \n",
       "[178]    [Oathbreaker, Last Hope of the Breaking Storm]          12   \n",
       "[82]                                          [Nirvana]           9   \n",
       "[145]                            [Fiery Glass Crusader]           9   \n",
       "[92]                                     [Final Critic]           8   \n",
       "[103]                                  [Singed Scalpel]           8   \n",
       "\n",
       "        Item Price  Total Purchase  \n",
       "Item ID                             \n",
       "[178]       [4.23]           50.76  \n",
       "[82]         [4.9]           44.10  \n",
       "[145]       [4.58]           41.22  \n",
       "[92]        [4.88]           39.04  \n",
       "[103]       [4.35]           34.80  "
      ]
     },
     "execution_count": 61,
     "metadata": {},
     "output_type": "execute_result"
    }
   ],
   "source": [
    "MostProfit= ItemTable1.sort_values('Total Purchase', ascending=False)\n",
    "MostProfit[:5]"
   ]
  }
 ],
 "metadata": {
  "kernelspec": {
   "display_name": "Python 3",
   "language": "python",
   "name": "python3"
  },
  "language_info": {
   "codemirror_mode": {
    "name": "ipython",
    "version": 3
   },
   "file_extension": ".py",
   "mimetype": "text/x-python",
   "name": "python",
   "nbconvert_exporter": "python",
   "pygments_lexer": "ipython3",
   "version": "3.7.1"
  }
 },
 "nbformat": 4,
 "nbformat_minor": 2
}
