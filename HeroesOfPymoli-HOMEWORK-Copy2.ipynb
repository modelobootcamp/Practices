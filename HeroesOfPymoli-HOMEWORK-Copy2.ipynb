{
 "cells": [
  {
   "cell_type": "markdown",
   "metadata": {},
   "source": [
    "### Heroes Of Pymoli Data Analysis\n",
    "* Of the 1163 active players, the vast majority are male (84%). There also exists, a smaller, but notable proportion of female players (14%).\n",
    "\n",
    "* Our peak age demographic falls between 20-24 (44.8%) with secondary groups falling between 15-19 (18.60%) and 25-29 (13.4%)."
   ]
  },
  {
   "cell_type": "markdown",
   "metadata": {},
   "source": [
    "### Note\n",
    "* Instructions have been included for each segment. You do not have to follow them exactly, but they are included to help you think through the steps."
   ]
  },
  {
   "cell_type": "code",
   "execution_count": 11,
   "metadata": {},
   "outputs": [],
   "source": [
    "# Dependencies and Setup\n",
    "import pandas as pd\n",
    "import numpy as np\n",
    "\n",
    "# File to Load (Remember to Change These)\n",
    "#purchase_data.csv = \"Resources/purchase_data.csv\"\n",
    "\n",
    "# Read Purchasing File and store into Pandas data frame\n",
    "# import a CSV file and rename csv for ease of use\n",
    "data = pd.read_csv(\"purchase_data.csv\")"
   ]
  },
  {
   "cell_type": "markdown",
   "metadata": {},
   "source": [
    "##  Player Count"
   ]
  },
  {
   "cell_type": "markdown",
   "metadata": {},
   "source": [
    "* Display the total number of players\n"
   ]
  },
  {
   "cell_type": "code",
   "execution_count": 12,
   "metadata": {},
   "outputs": [
    {
     "name": "stdout",
     "output_type": "stream",
     "text": [
      "576\n"
     ]
    }
   ],
   "source": [
    "print(data['SN'].nunique())"
   ]
  },
  {
   "cell_type": "markdown",
   "metadata": {},
   "source": [
    "** Cleaner formatting Player Count"
   ]
  },
  {
   "cell_type": "code",
   "execution_count": 13,
   "metadata": {},
   "outputs": [
    {
     "data": {
      "text/html": [
       "<div>\n",
       "<style scoped>\n",
       "    .dataframe tbody tr th:only-of-type {\n",
       "        vertical-align: middle;\n",
       "    }\n",
       "\n",
       "    .dataframe tbody tr th {\n",
       "        vertical-align: top;\n",
       "    }\n",
       "\n",
       "    .dataframe thead th {\n",
       "        text-align: right;\n",
       "    }\n",
       "</style>\n",
       "<table border=\"1\" class=\"dataframe\">\n",
       "  <thead>\n",
       "    <tr style=\"text-align: right;\">\n",
       "      <th></th>\n",
       "      <th>Total Player</th>\n",
       "    </tr>\n",
       "  </thead>\n",
       "  <tbody>\n",
       "    <tr>\n",
       "      <th>0</th>\n",
       "      <td>576</td>\n",
       "    </tr>\n",
       "  </tbody>\n",
       "</table>\n",
       "</div>"
      ],
      "text/plain": [
       "   Total Player\n",
       "0           576"
      ]
     },
     "execution_count": 13,
     "metadata": {},
     "output_type": "execute_result"
    }
   ],
   "source": [
    "SN = {'Total Player':[len(data['SN'].value_counts())]}\n",
    "SN1 = pd.DataFrame(SN)\n",
    "SN1"
   ]
  },
  {
   "cell_type": "markdown",
   "metadata": {},
   "source": [
    "## Purchasing Analysis (Total)"
   ]
  },
  {
   "cell_type": "markdown",
   "metadata": {},
   "source": [
    "* Run basic calculations to obtain number of unique items, average price, etc."
   ]
  },
  {
   "cell_type": "markdown",
   "metadata": {},
   "source": [
    "* Number of unique items"
   ]
  },
  {
   "cell_type": "code",
   "execution_count": 14,
   "metadata": {},
   "outputs": [
    {
     "name": "stdout",
     "output_type": "stream",
     "text": [
      "183\n"
     ]
    }
   ],
   "source": [
    "it = (data['Item ID'].nunique())\n",
    "print(it)"
   ]
  },
  {
   "cell_type": "markdown",
   "metadata": {},
   "source": [
    "** Average price"
   ]
  },
  {
   "cell_type": "code",
   "execution_count": 15,
   "metadata": {},
   "outputs": [
    {
     "name": "stdout",
     "output_type": "stream",
     "text": [
      "3.050987179487176\n"
     ]
    }
   ],
   "source": [
    "average_price = (data['Price'].mean())\n",
    "print(average_price)"
   ]
  },
  {
   "cell_type": "markdown",
   "metadata": {},
   "source": [
    "* Number of Purchases\n",
    "* Total Revenue\n",
    "*  Create a summary data frame to hold the results\n",
    "*  Place all of the data found into a summary DataFrame\n",
    "* summary_table = pd.DataFrame({\"Total Unique Authors\": author_count, \"Earliest Year\": * * [earliest_year], \"Latest Year\": [latest_year], \"Total Reviews\": [total_reviews]})"
   ]
  },
  {
   "cell_type": "code",
   "execution_count": 16,
   "metadata": {},
   "outputs": [
    {
     "name": "stdout",
     "output_type": "stream",
     "text": [
      "780\n"
     ]
    }
   ],
   "source": [
    "purchased_number = (data['SN'].count())\n",
    "print(purchased_number)"
   ]
  },
  {
   "cell_type": "code",
   "execution_count": 17,
   "metadata": {},
   "outputs": [
    {
     "name": "stdout",
     "output_type": "stream",
     "text": [
      "2379.77\n"
     ]
    }
   ],
   "source": [
    "total_revenue = (data['Price'].sum())\n",
    "print(total_revenue)"
   ]
  },
  {
   "cell_type": "code",
   "execution_count": 18,
   "metadata": {
    "scrolled": true
   },
   "outputs": [
    {
     "ename": "NameError",
     "evalue": "name 'summary_data' is not defined",
     "output_type": "error",
     "traceback": [
      "\u001b[1;31m---------------------------------------------------------------------------\u001b[0m",
      "\u001b[1;31mNameError\u001b[0m                                 Traceback (most recent call last)",
      "\u001b[1;32m<ipython-input-18-e12697738963>\u001b[0m in \u001b[0;36m<module>\u001b[1;34m\u001b[0m\n\u001b[1;32m----> 1\u001b[1;33m \u001b[0msummary_data\u001b[0m\u001b[1;33m[\u001b[0m\u001b[1;34m\"Total Revenue\"\u001b[0m\u001b[1;33m]\u001b[0m \u001b[1;33m=\u001b[0m \u001b[0msummary_data\u001b[0m\u001b[1;33m[\u001b[0m\u001b[1;34m\"Total Revenue\"\u001b[0m\u001b[1;33m]\u001b[0m\u001b[1;33m.\u001b[0m\u001b[0mmap\u001b[0m\u001b[1;33m(\u001b[0m\u001b[1;34m\"${:.2f}\"\u001b[0m\u001b[1;33m.\u001b[0m\u001b[0mformat\u001b[0m\u001b[1;33m)\u001b[0m\u001b[1;33m\u001b[0m\u001b[1;33m\u001b[0m\u001b[0m\n\u001b[0m\u001b[0;32m      2\u001b[0m \u001b[0msummary_data\u001b[0m\u001b[1;33m[\u001b[0m\u001b[1;34m\"Average Price\"\u001b[0m\u001b[1;33m]\u001b[0m \u001b[1;33m=\u001b[0m \u001b[0msummary_data\u001b[0m\u001b[1;33m[\u001b[0m\u001b[1;34m\"Average Price\"\u001b[0m\u001b[1;33m]\u001b[0m\u001b[1;33m.\u001b[0m\u001b[0mmap\u001b[0m\u001b[1;33m(\u001b[0m\u001b[1;34m\"${:.2f}\"\u001b[0m\u001b[1;33m.\u001b[0m\u001b[0mformat\u001b[0m\u001b[1;33m)\u001b[0m\u001b[1;33m\u001b[0m\u001b[1;33m\u001b[0m\u001b[0m\n\u001b[0;32m      3\u001b[0m \u001b[0mprint\u001b[0m \u001b[1;33m(\u001b[0m\u001b[0msummary_data\u001b[0m\u001b[1;33m)\u001b[0m\u001b[1;33m\u001b[0m\u001b[1;33m\u001b[0m\u001b[0m\n",
      "\u001b[1;31mNameError\u001b[0m: name 'summary_data' is not defined"
     ]
    }
   ],
   "source": [
    "summary_data[\"Total Revenue\"] = summary_data[\"Total Revenue\"].map(\"${:.2f}\".format)\n",
    "summary_data[\"Average Price\"] = summary_data[\"Average Price\"].map(\"${:.2f}\".format)\n",
    "print (summary_data)"
   ]
  },
  {
   "cell_type": "markdown",
   "metadata": {},
   "source": [
    "** Cleaner formatting Player Count"
   ]
  },
  {
   "cell_type": "code",
   "execution_count": null,
   "metadata": {},
   "outputs": [],
   "source": [
    "#Number of Unique Items\n",
    "UniqueItems = len(data['Item Name'].value_counts())\n",
    "#Average Purchase Price\n",
    "AvPurchPrice = round(data['Price'].mean(),2)\n",
    "#Total Purchase Value\n",
    "TotalPurchases = round(data['Price'].sum(),2)\n",
    "#Purchasing Analysis (Total)\n",
    "PurchasingAnalysis= {'Unique Items':[UniqueItems],'Average Price':[AvPurchPrice],'Number of Purchases': [len(data)],'Total Purchases':[TotalPurchases]}\n",
    "PurchasingAnalysis1 =pd.DataFrame(PurchasingAnalysis)\n",
    "PurchasingAnalysis1 = PurchasingAnalysis1[['Unique Items','Average Price','Number of Purchases','Total Purchases']]\n",
    "PurchasingAnalysis1"
   ]
  },
  {
   "cell_type": "markdown",
   "metadata": {},
   "source": [
    "** Percent of Female Players"
   ]
  },
  {
   "cell_type": "code",
   "execution_count": null,
   "metadata": {},
   "outputs": [],
   "source": [
    "#Gender Demographics\n",
    "\n",
    "# Total Count\n",
    "total_count = len(data[\"SN\"].unique())\n",
    "\n",
    "#Percentage and Count of Male Players\n",
    "#Male = data.loc[data['Gender'] =='Male',:]\n",
    "Male1= data.groupby(['Gender']).get_group(('Male'))\n",
    "Male2= len(Male1['SN'].unique())\n",
    "MalePercent= round((Male2/total_count)*100,2)\n",
    "print (MalePercent)"
   ]
  },
  {
   "cell_type": "markdown",
   "metadata": {},
   "source": [
    "** Percent of Female Players"
   ]
  },
  {
   "cell_type": "code",
   "execution_count": null,
   "metadata": {},
   "outputs": [],
   "source": [
    "Female1= data.groupby(['Gender']).get_group(('Female'))\n",
    "Female2= len(Female1['SN'].unique())\n",
    "FemalePercent= round((Female2/total_count)*100,2)\n",
    "print (FemalePercent)"
   ]
  },
  {
   "cell_type": "markdown",
   "metadata": {},
   "source": [
    "** Percent of Other / Non-Disclosed Players"
   ]
  },
  {
   "cell_type": "code",
   "execution_count": null,
   "metadata": {},
   "outputs": [],
   "source": [
    "Other1= data.groupby(['Gender']).get_group(('Other / Non-Disclosed'))\n",
    "Other2= len(Other1['SN'].unique())\n",
    "OtherPercent= round((Other2/total_count)*100,2)\n",
    "print(OtherPercent)"
   ]
  },
  {
   "cell_type": "markdown",
   "metadata": {},
   "source": [
    "## Purchasing Analysis (Gender)\n",
    " \n",
    "* Run basic calculations to obtain purchase count, avg. purchase price, avg. purchase total per person etc. by gender\n",
    "* Create a summary data frame to hold the results\n",
    "* Optional: give the displayed data cleaner formatting\n",
    "* Display the summary data frame"
   ]
  },
  {
   "cell_type": "code",
   "execution_count": null,
   "metadata": {
    "scrolled": true
   },
   "outputs": [],
   "source": [
    "sex1 = {'Percent of Players':[MalePercent,FemalePercent,OtherPercent],'Gender':[\"Male\",'Female','Other / Non-Disclosed'],'Gender Count':[Male2,Female2,Other2]}\n",
    "sex2 =  pd.DataFrame(sex1)\n",
    "sex2= sex2.set_index('Gender')\n",
    "sex2= sex2[['Gender Count','Percent of Players']]\n",
    "sex2"
   ]
  },
  {
   "cell_type": "markdown",
   "metadata": {},
   "source": [
    "** Gender Demographics"
   ]
  },
  {
   "cell_type": "markdown",
   "metadata": {},
   "source": [
    "* Display the summary data frame"
   ]
  },
  {
   "cell_type": "markdown",
   "metadata": {},
   "source": [
    "\n",
    "** Purchasing Analysis (Gender)"
   ]
  },
  {
   "cell_type": "markdown",
   "metadata": {},
   "source": [
    "* Run basic calculations to obtain purchase count, avg. purchase price, avg. purchase total per person etc. by gender"
   ]
  },
  {
   "cell_type": "code",
   "execution_count": null,
   "metadata": {},
   "outputs": [],
   "source": [
    "#Purchase Count\n",
    "MalePurchaseCount = len(Male1)\n",
    "FemalePurchaseCount = len(Female1)\n",
    "OtherPurchaseCount = len(Other1)"
   ]
  },
  {
   "cell_type": "code",
   "execution_count": null,
   "metadata": {},
   "outputs": [],
   "source": [
    "#Average Purchase Price\n",
    "MaleAvgPrice =round((Male1[\"Price\"].sum())/len(Male1[\"Price\"]),2)\n",
    "FemaleAvgPrice= round((Female1[\"Price\"].sum())/len(Female1[\"Price\"]),2)\n",
    "OtherAvgPrice= round((Other1[\"Price\"].sum())/len(Other1[\"Price\"]),2)"
   ]
  },
  {
   "cell_type": "code",
   "execution_count": null,
   "metadata": {},
   "outputs": [],
   "source": [
    "#Total Purchase Value\n",
    "MaleTotalPurchase = round(Male1['Price'].sum(),2)\n",
    "FemaleTotalPurchase = round(Female1['Price'].sum(),2)\n",
    "OtherTotalPurchase = round(Other1['Price'].sum(),2)"
   ]
  },
  {
   "cell_type": "code",
   "execution_count": null,
   "metadata": {},
   "outputs": [],
   "source": [
    "# Normalised Totals\n",
    "# male/female/Other\n",
    "NormMale = round((MaleTotalPurchase/MalePurchaseCount), 2)\n",
    "NormFemale = round((FemaleTotalPurchase/FemalePurchaseCount), 2)\n",
    "NormOther = round((OtherTotalPurchase/OtherPurchaseCount), 2)"
   ]
  },
  {
   "cell_type": "markdown",
   "metadata": {},
   "source": [
    "* Display the summary data frame"
   ]
  },
  {
   "cell_type": "markdown",
   "metadata": {},
   "source": [
    "* Optional: give the displayed data cleaner formatting"
   ]
  },
  {
   "cell_type": "markdown",
   "metadata": {},
   "source": [
    "* Create a summary data frame to hold the results"
   ]
  },
  {
   "cell_type": "code",
   "execution_count": null,
   "metadata": {},
   "outputs": [],
   "source": [
    "PurchByGender = {\"Purchase Count\":[MalePurchaseCount,FemalePurchaseCount,OtherPurchaseCount],\n",
    "                    \"Gender\":[\"Male\",\"Female\",\"Other / Non-Disclosed\"],\n",
    "                    \"Average Purchase Price\":[MaleAvgPrice,FemaleAvgPrice,OtherAvgPrice],\n",
    "                    \"Total Purchase Value\":[MaleTotalPurchase,FemaleTotalPurchase,OtherTotalPurchase],\n",
    "                \"Normalized Totals\":[NormMale,NormFemale,NormOther]}\n",
    "PurchByGender1 = pd.DataFrame(PurchByGender)\n",
    "PurchByGender1 = PurchByGender1.set_index('Gender')\n",
    "PurchByGender1= PurchByGender1[['Purchase Count','Average Purchase Price','Total Purchase Value','Normalized Totals']]\n",
    "PurchByGender1"
   ]
  },
  {
   "cell_type": "markdown",
   "metadata": {},
   "source": [
    "## Age Demographics"
   ]
  },
  {
   "cell_type": "markdown",
   "metadata": {},
   "source": [
    "* Establish bins for ages\n",
    "* Categorize the existing players using the age bins. Hint: use pd.cut()\n",
    "* Calculate the numbers and percentages by age group\n",
    "* Create a summary data frame to hold the results\n",
    "* Optional: round the percentage column to two decimal points\n",
    "* Display Age Demographics Table"
   ]
  },
  {
   "cell_type": "code",
   "execution_count": null,
   "metadata": {},
   "outputs": [],
   "source": [
    "#Age Demographics\n",
    "MaxAge = data['Age'].max()\n",
    "print(MaxAge)"
   ]
  },
  {
   "cell_type": "code",
   "execution_count": null,
   "metadata": {},
   "outputs": [],
   "source": [
    "#Age Demographics\n",
    "MinAge = data['Age'].min()\n",
    "print(MinAge)"
   ]
  },
  {
   "cell_type": "markdown",
   "metadata": {},
   "source": [
    "* Categorize the existing players using the age bins. Hint: use pd.cut()\n",
    "\n",
    "pandas.cut(x, bins, right=True, labels=None, retbins=False, precision=3, include_lowest=False, duplicates='raise')"
   ]
  },
  {
   "cell_type": "code",
   "execution_count": null,
   "metadata": {},
   "outputs": [],
   "source": [
    "#bins of 4 years (i.e. <10, 10-14, 15-19, etc.)\n",
    "bins = [0,10,14,19,24,29,34,39,46]\n",
    "Agelabels = [\"<10\",\"10-14\",\"15-19\",\"20-24\",\"25-29\",\"30-34\",\"35-39\",\"40+\"]\n",
    "data['Age Summary'] = pd.cut(data['Age'],bins,labels= Agelabels)\n",
    "print(bins)"
   ]
  },
  {
   "cell_type": "code",
   "execution_count": null,
   "metadata": {},
   "outputs": [],
   "source": [
    "data.columns"
   ]
  },
  {
   "cell_type": "code",
   "execution_count": null,
   "metadata": {},
   "outputs": [],
   "source": [
    "#Purchase Count\n",
    "Bin1 = data.groupby(['Age Summary']).get_group(('<10'))\n",
    "pc1 = len(Bin1['SN'].unique())\n",
    "PerBin1 = (pc1/total_count)*100\n",
    "\n",
    "Bin2 = data.groupby(['Age Summary']).get_group(('10-14'))\n",
    "pc2 = len(Bin2['SN'].unique())\n",
    "PerBin2 = (pc2/total_count)*100\n",
    "\n",
    "Bin3 = data.groupby(['Age Summary']).get_group(('15-19'))\n",
    "pc3 = len(Bin3['SN'].unique())\n",
    "PerBin3 = (pc3/total_count)*100\n",
    "\n",
    "Bin4 = data.groupby(['Age Summary']).get_group(('20-24'))\n",
    "pc4 = len(Bin4['SN'].unique())\n",
    "PerBin4 = (pc4/total_count)*100\n",
    "\n",
    "Bin5 = data.groupby(['Age Summary']).get_group(('25-29'))\n",
    "pc5 = len(Bin5['SN'].unique())\n",
    "PerBin5 = (pc5/total_count)*100\n",
    "\n",
    "Bin6 = data.groupby(['Age Summary']).get_group(('30-34'))\n",
    "pc6 = len(Bin6['SN'].unique())\n",
    "PerBin6 = (pc6/total_count)*100\n",
    "\n",
    "Bin7 = data.groupby(['Age Summary']).get_group(('35-39'))\n",
    "pc7 = len(Bin7['SN'].unique())\n",
    "PerBin7 = (pc7/total_count)*100\n",
    "\n",
    "Bin8 = data.groupby(['Age Summary']).get_group(('40+'))\n",
    "pc8 = len(Bin8['SN'].unique())\n",
    "PerBin8 = (pc8/total_count)*100"
   ]
  },
  {
   "cell_type": "markdown",
   "metadata": {},
   "source": [
    "* Calculate the numbers and percentages by age group"
   ]
  },
  {
   "cell_type": "code",
   "execution_count": null,
   "metadata": {},
   "outputs": [],
   "source": [
    "PlayerBinsCount=[pc1,pc2,pc3,pc4,pc5,pc6,pc7,pc8]\n",
    "PercentBins= [PerBin1,PerBin2,PerBin3,PerBin4,PerBin5,PerBin6,PerBin7,PerBin8]\n",
    "PercentBins= [round(x,2) for x in PercentBins]\n",
    "print(PlayerBinsCount)"
   ]
  },
  {
   "cell_type": "code",
   "execution_count": null,
   "metadata": {},
   "outputs": [],
   "source": [
    "AgeDem = {\"Age Summary\":Agelabels,\"Total Player Count\":PlayerBinsCount,\"Percentage Of Players\":PercentBins}\n",
    "AgeDem1 = pd.DataFrame(AgeDem)\n",
    "AgeDem1 = AgeDem1.set_index('Age Summary')\n",
    "AgeDem1"
   ]
  },
  {
   "cell_type": "markdown",
   "metadata": {},
   "source": [
    "## Purchasing Analysis (Age)"
   ]
  },
  {
   "cell_type": "markdown",
   "metadata": {},
   "source": [
    "* Bin the purchase_data data frame by age\n",
    "* Run basic calculations to obtain purchase count, avg. purchase price, avg. purchase total per person etc. in the table below\n",
    "* Create a summary data frame to hold the results\n",
    "* Optional: give the displayed data cleaner formatting\n",
    "* Display the summary data frame"
   ]
  },
  {
   "cell_type": "markdown",
   "metadata": {},
   "source": [
    "## Top Spenders"
   ]
  },
  {
   "cell_type": "markdown",
   "metadata": {},
   "source": [
    "* Run basic calculations to obtain the results in the table below\n",
    "* Create a summary data frame to hold the results\n",
    "* Sort the total purchase value column in descending order\n",
    "* Optional: give the displayed data cleaner formatting\n",
    "* Display a preview of the summary data frame"
   ]
  },
  {
   "cell_type": "code",
   "execution_count": null,
   "metadata": {},
   "outputs": [],
   "source": [
    "#SN\n",
    "SN = data.groupby(data[\"SN\"])\n",
    "ScreenName = SN[\"SN\"].unique()\n",
    "\n",
    "#Purchase Count\n",
    "SNCount = SN['Age'].count()\n",
    "\n",
    "#Average Purchase Price\n",
    "SNAverage = round(SN['Price'].mean(),2)\n",
    "\n",
    "#Total Purchase Value\n",
    "SNTotal = SN['Price'].sum()\n",
    "\n",
    "\n",
    "TopSpend = {\"SN\":ScreenName,\"Purchase Count\":SNCount,\n",
    "                 \"Average Purchase Price\":SNAverage,\"Total Purchase Value\":SNTotal}\n",
    "TopSpend1= pd.DataFrame(TopSpend)\n",
    "TopSpend1= TopSpend1.set_index('SN')\n",
    "TopSpend1 = TopSpend1.sort_values(\"Total Purchase Value\",ascending=False)\n",
    "TopSpend1 = TopSpend1[['Purchase Count', 'Average Purchase Price', 'Total Purchase Value']]\n",
    "\n",
    "TopSpend1.iloc[:5]"
   ]
  },
  {
   "cell_type": "markdown",
   "metadata": {},
   "source": [
    "## Most Popular Items"
   ]
  },
  {
   "cell_type": "markdown",
   "metadata": {},
   "source": [
    "* Retrieve the Item ID, Item Name, and Item Price columns\n",
    "\n",
    "* Group by Item ID and Item Name. Perform calculations to obtain purchase count, item price, and total purchase value\n",
    "\n",
    "* Create a summary data frame to hold the results\n",
    "\n",
    "* Sort the purchase count column in descending order\n",
    "\n",
    "* Optional: give the displayed data cleaner formatting\n",
    "\n",
    "* Display a preview of the summary data frame"
   ]
  },
  {
   "cell_type": "code",
   "execution_count": null,
   "metadata": {},
   "outputs": [],
   "source": [
    "#Item ID\n",
    "ItemId = data.groupby(data['Item ID'])\n",
    "Items = ItemId['Item ID'].unique()\n",
    "#Item Name\n",
    "\n",
    "ItemName = ItemId[\"Item Name\"].unique()\n",
    "\n",
    "#Purchase Count\n",
    "ItemPurCount = ItemId['Age'].count()\n",
    "\n",
    "#Item Price\n",
    "ItemPrice= ItemId['Price'].unique()\n",
    "\n",
    "\n",
    "#Total Purchase Value\n",
    "ItemTotalPurchase = ItemId['Price'].sum()\n",
    "\n",
    "ItemTable = {'Item ID':Items,'Item Name':ItemName,'Item Price':ItemPrice,'Item Count':ItemPurCount,'Total Purchase':ItemTotalPurchase}\n",
    "ItemTable1 = pd.DataFrame(ItemTable)\n",
    "ItemTable1 = ItemTable1.set_index('Item ID')\n",
    "ItemTable1= ItemTable1.sort_values('Item Count', ascending=False)\n",
    "ItemTable1 = ItemTable1[['Item Name','Item Count','Item Price','Total Purchase']]\n",
    "ItemTable1.iloc[:5]"
   ]
  },
  {
   "cell_type": "markdown",
   "metadata": {},
   "source": [
    "## Most Profitable Items"
   ]
  },
  {
   "cell_type": "markdown",
   "metadata": {},
   "source": [
    "* Sort the above table by total purchase value in descending order\n",
    "* Optional: give the displayed data cleaner formatting\n",
    "* Display a preview of the data frame"
   ]
  },
  {
   "cell_type": "code",
   "execution_count": 9,
   "metadata": {},
   "outputs": [
    {
     "ename": "NameError",
     "evalue": "name 'ItemTable1' is not defined",
     "output_type": "error",
     "traceback": [
      "\u001b[1;31m---------------------------------------------------------------------------\u001b[0m",
      "\u001b[1;31mNameError\u001b[0m                                 Traceback (most recent call last)",
      "\u001b[1;32m<ipython-input-9-9032b4b9feb9>\u001b[0m in \u001b[0;36m<module>\u001b[1;34m\u001b[0m\n\u001b[1;32m----> 1\u001b[1;33m \u001b[0mMostProfit\u001b[0m\u001b[1;33m=\u001b[0m \u001b[0mItemTable1\u001b[0m\u001b[1;33m.\u001b[0m\u001b[0msort_values\u001b[0m\u001b[1;33m(\u001b[0m\u001b[1;34m'Total Purchase'\u001b[0m\u001b[1;33m,\u001b[0m \u001b[0mascending\u001b[0m\u001b[1;33m=\u001b[0m\u001b[1;32mFalse\u001b[0m\u001b[1;33m)\u001b[0m\u001b[1;33m\u001b[0m\u001b[1;33m\u001b[0m\u001b[0m\n\u001b[0m\u001b[0;32m      2\u001b[0m \u001b[0mMostProfit\u001b[0m\u001b[1;33m[\u001b[0m\u001b[1;33m:\u001b[0m\u001b[1;36m5\u001b[0m\u001b[1;33m]\u001b[0m\u001b[1;33m\u001b[0m\u001b[1;33m\u001b[0m\u001b[0m\n",
      "\u001b[1;31mNameError\u001b[0m: name 'ItemTable1' is not defined"
     ]
    }
   ],
   "source": [
    "MostProfit= ItemTable1.sort_values('Total Purchase', ascending=False)\n",
    "MostProfit[:5]"
   ]
  },
  {
   "cell_type": "code",
   "execution_count": null,
   "metadata": {},
   "outputs": [],
   "source": []
  }
 ],
 "metadata": {
  "anaconda-cloud": {},
  "kernel_info": {
   "name": "python3"
  },
  "kernelspec": {
   "display_name": "Python 3",
   "language": "python",
   "name": "python3"
  },
  "language_info": {
   "codemirror_mode": {
    "name": "ipython",
    "version": 3
   },
   "file_extension": ".py",
   "mimetype": "text/x-python",
   "name": "python",
   "nbconvert_exporter": "python",
   "pygments_lexer": "ipython3",
   "version": "3.7.1"
  },
  "nteract": {
   "version": "0.2.0"
  }
 },
 "nbformat": 4,
 "nbformat_minor": 2
}
