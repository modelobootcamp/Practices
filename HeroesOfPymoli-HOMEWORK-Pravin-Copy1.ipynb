{
 "cells": [
  {
   "cell_type": "code",
   "execution_count": 1,
   "metadata": {},
   "outputs": [],
   "source": [
    "# Dependencies and Setup\n",
    "import pandas as pd\n",
    "import numpy as np\n",
    "\n",
    "# File to Load (Remember to Change These)\n",
    "#purchase_data.csv = \"Resources/purchase_data.csv\""
   ]
  },
  {
   "cell_type": "code",
   "execution_count": 2,
   "metadata": {},
   "outputs": [],
   "source": [
    "# Read Purchasing File and store into Pandas data frame\n",
    "# import a CSV file and rename csv for ease of use\n",
    "data = pd.read_csv(\"purchase_data.csv\")"
   ]
  },
  {
   "cell_type": "code",
   "execution_count": 3,
   "metadata": {},
   "outputs": [
    {
     "name": "stdout",
     "output_type": "stream",
     "text": [
      "--------- Purchasing Analysis (Gender)----------------\n"
     ]
    },
    {
     "ename": "NameError",
     "evalue": "name 'customer_group' is not defined",
     "output_type": "error",
     "traceback": [
      "\u001b[1;31m---------------------------------------------------------------------------\u001b[0m",
      "\u001b[1;31mNameError\u001b[0m                                 Traceback (most recent call last)",
      "\u001b[1;32m<ipython-input-3-0ee86ad82e07>\u001b[0m in \u001b[0;36m<module>\u001b[1;34m\u001b[0m\n\u001b[0;32m     29\u001b[0m \u001b[1;33m\u001b[0m\u001b[0m\n\u001b[0;32m     30\u001b[0m \u001b[1;31m# Determining Avg Total Purchase per Person series per gender group\u001b[0m\u001b[1;33m\u001b[0m\u001b[1;33m\u001b[0m\u001b[1;33m\u001b[0m\u001b[0m\n\u001b[1;32m---> 31\u001b[1;33m \u001b[0mavg_total_pur_per\u001b[0m\u001b[1;33m=\u001b[0m\u001b[0mcustomer_group\u001b[0m\u001b[1;33m[\u001b[0m\u001b[1;34m\"Price\"\u001b[0m\u001b[1;33m]\u001b[0m\u001b[1;33m.\u001b[0m\u001b[0msum\u001b[0m\u001b[1;33m(\u001b[0m\u001b[1;33m)\u001b[0m\u001b[1;33m/\u001b[0m\u001b[0mgender_group\u001b[0m\u001b[1;33m[\u001b[0m\u001b[1;34m\"Customer ID\"\u001b[0m\u001b[1;33m]\u001b[0m\u001b[1;33m.\u001b[0m\u001b[0mnunique\u001b[0m\u001b[1;33m(\u001b[0m\u001b[1;33m)\u001b[0m\u001b[1;33m\u001b[0m\u001b[1;33m\u001b[0m\u001b[0m\n\u001b[0m\u001b[0;32m     32\u001b[0m \u001b[0mavg_total_pur_per\u001b[0m\u001b[1;33m=\u001b[0m \u001b[0mavg_total_pur_per\u001b[0m\u001b[1;33m.\u001b[0m\u001b[0mrename\u001b[0m\u001b[1;33m(\u001b[0m\u001b[0mcolumns\u001b[0m\u001b[1;33m=\u001b[0m\u001b[1;33m{\u001b[0m\u001b[1;34m\"Gender\"\u001b[0m\u001b[1;33m:\u001b[0m\u001b[1;34m\"Gender\"\u001b[0m\u001b[1;33m,\u001b[0m\u001b[1;36m1\u001b[0m\u001b[1;33m:\u001b[0m \u001b[1;34m\"Average Total Purchase Per Person\"\u001b[0m\u001b[1;33m}\u001b[0m\u001b[1;33m)\u001b[0m\u001b[1;33m\u001b[0m\u001b[1;33m\u001b[0m\u001b[0m\n\u001b[0;32m     33\u001b[0m \u001b[1;31m#print(avg_total_pur_per)\u001b[0m\u001b[1;33m\u001b[0m\u001b[1;33m\u001b[0m\u001b[1;33m\u001b[0m\u001b[0m\n",
      "\u001b[1;31mNameError\u001b[0m: name 'customer_group' is not defined"
     ]
    }
   ],
   "source": [
    "#--------- Purchasing Analysis (Gender)----------------\n",
    "\n",
    "print(\"--------- Purchasing Analysis (Gender)----------------\")\n",
    "\n",
    "# Setting a new Dataframe column with index of unique integers assigned to each purchase id called as customer id\n",
    "mapping = {k: v for v, k in enumerate(data.SN.unique())}\n",
    "data['Customer ID'] = data.SN.map(mapping)\n",
    "new_data= data.set_index('Customer ID')\n",
    "\n",
    "\n",
    "# Grouping by gender and determining purchase count series per gender\n",
    "gender_group=data.groupby(\"Gender\")\n",
    "purchase_count=gender_group[\"Purchase ID\"].count()\n",
    "\n",
    "\n",
    "# Determining average purchase price series per gender group\n",
    "average_pur_pr=gender_group[\"Price\"].mean()\n",
    "#average_pur_pr= average_pur_pr.rename(columns={\"Gender\":\"Gender\",\"Price\": \"Average Purchase Price\"})\n",
    "#print(average_pur_pr)\n",
    "\n",
    "\n",
    "\n",
    "# Determining total purchase value series per gender group\n",
    "total_pur_value=gender_group[\"Price\"].sum()\n",
    "total_pur_value= total_pur_value.rename(columns={\"Gender\":\"Gender\",\"Price\": \"Total Purchase Value\"})\n",
    "#print(total_pur_value)\n",
    "\n",
    "\n",
    "\n",
    "# Determining Avg Total Purchase per Person series per gender group\n",
    "avg_total_pur_per=customer_group[\"Price\"].sum()/gender_group[\"Customer ID\"].nunique()\n",
    "avg_total_pur_per= avg_total_pur_per.rename(columns={\"Gender\":\"Gender\",1: \"Average Total Purchase Per Person\"})\n",
    "#print(avg_total_pur_per)\n",
    "\n",
    "\n",
    "# Make a dataframe from all the series to display analysis\n",
    "new_data=pd.concat([gender,purchase_count,average_pur_pr,total_pur_value,avg_total_pur_per],axis=1).reset_index()\n",
    "\n",
    "# Renaming the columns and formatting column values of the new dataframe\n",
    "new_data= new_data.rename(columns={\"Gender\": \"Gender\", 0: \"Unique Customer Count\", \"Purchase ID\": \"Purchase Count\", \"Price\":  \"Average Purchase Price\",1: \"Total Purchase Value\", 2: \"Average Total Purchase Per Person\"})\n",
    "new_data= new_data[[\"Gender\",\"Purchase Count\", \"Average Purchase Price\", \"Total Purchase Value\", \"Average Total Purchase Per Person\"]]\n",
    "new_data[\"Average Purchase Price\"] = new_data[\"Average Purchase Price\"].map(\"${:.2f}\".format)\n",
    "new_data[\"Total Purchase Value\"] = new_data[\"Total Purchase Value\"].map(\"${:.2f}\".format)\n",
    "new_data[\"Average Total Purchase Per Person\"] = new_data[\"Average Total Purchase Per Person\"].map(\"${:.2f}\".format)\n",
    "\n",
    "# Setting new dataframe index to Gender\n",
    "new_data=new_data.set_index(\"Gender\")\n",
    "\n",
    "print(new_data.head())"
   ]
  },
  {
   "cell_type": "code",
   "execution_count": null,
   "metadata": {},
   "outputs": [],
   "source": []
  },
  {
   "cell_type": "code",
   "execution_count": null,
   "metadata": {},
   "outputs": [],
   "source": []
  }
 ],
 "metadata": {
  "kernelspec": {
   "display_name": "Python 3",
   "language": "python",
   "name": "python3"
  },
  "language_info": {
   "codemirror_mode": {
    "name": "ipython",
    "version": 3
   },
   "file_extension": ".py",
   "mimetype": "text/x-python",
   "name": "python",
   "nbconvert_exporter": "python",
   "pygments_lexer": "ipython3",
   "version": "3.7.1"
  }
 },
 "nbformat": 4,
 "nbformat_minor": 2
}
