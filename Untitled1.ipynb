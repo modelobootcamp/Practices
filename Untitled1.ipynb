{
 "cells": [
  {
   "cell_type": "code",
   "execution_count": 1,
   "metadata": {},
   "outputs": [
    {
     "ename": "NameError",
     "evalue": "name 'Male1' is not defined",
     "output_type": "error",
     "traceback": [
      "\u001b[1;31m---------------------------------------------------------------------------\u001b[0m",
      "\u001b[1;31mNameError\u001b[0m                                 Traceback (most recent call last)",
      "\u001b[1;32m<ipython-input-1-518e611da443>\u001b[0m in \u001b[0;36m<module>\u001b[1;34m\u001b[0m\n\u001b[0;32m      3\u001b[0m \u001b[1;33m\u001b[0m\u001b[0m\n\u001b[0;32m      4\u001b[0m \u001b[1;31m#Purchase Count\u001b[0m\u001b[1;33m\u001b[0m\u001b[1;33m\u001b[0m\u001b[1;33m\u001b[0m\u001b[0m\n\u001b[1;32m----> 5\u001b[1;33m \u001b[0mMalePurchaseCount\u001b[0m \u001b[1;33m=\u001b[0m \u001b[0mlen\u001b[0m\u001b[1;33m(\u001b[0m\u001b[0mMale1\u001b[0m\u001b[1;33m)\u001b[0m\u001b[1;33m\u001b[0m\u001b[1;33m\u001b[0m\u001b[0m\n\u001b[0m\u001b[0;32m      6\u001b[0m \u001b[0mFemalePurchaseCount\u001b[0m \u001b[1;33m=\u001b[0m \u001b[0mlen\u001b[0m\u001b[1;33m(\u001b[0m\u001b[0mFemale1\u001b[0m\u001b[1;33m)\u001b[0m\u001b[1;33m\u001b[0m\u001b[1;33m\u001b[0m\u001b[0m\n\u001b[0;32m      7\u001b[0m \u001b[0mOtherPurchaseCount\u001b[0m \u001b[1;33m=\u001b[0m \u001b[0mlen\u001b[0m\u001b[1;33m(\u001b[0m\u001b[0mOther1\u001b[0m\u001b[1;33m)\u001b[0m\u001b[1;33m\u001b[0m\u001b[1;33m\u001b[0m\u001b[0m\n",
      "\u001b[1;31mNameError\u001b[0m: name 'Male1' is not defined"
     ]
    }
   ],
   "source": [
    "\n",
    "#Purchasing Analysis (Gender)\n",
    "\n",
    "#Purchase Count\n",
    "MalePurchaseCount = len(Male1)\n",
    "FemalePurchaseCount = len(Female1)\n",
    "OtherPurchaseCount = len(Other1)\n",
    "\n",
    "#Average Purchase Price\n",
    "MaleAvgPrice =round((Male1[\"Price\"].sum())/len(Male1[\"Price\"]),2)\n",
    "FemaleAvgPrice= round((Female1[\"Price\"].sum())/len(Female1[\"Price\"]),2)\n",
    "OtherAvgPrice= round((Other1[\"Price\"].sum())/len(Other1[\"Price\"]),2)\n",
    "\n",
    "\n",
    "#Total Purchase Value\n",
    "MaleTotalPurchase = round(Male1['Price'].sum(),2)\n",
    "FemaleTotalPurchase = round(Female1['Price'].sum(),2)\n",
    "OtherTotalPurchase = round(Other1['Price'].sum(),2)\n",
    "\n",
    "# Normalised Totals\n",
    "# male/female/Other\n",
    "NormMale = round((MaleTotalPurchase/MalePurchaseCount), 2)\n",
    "NormFemale = round((FemaleTotalPurchase/FemalePurchaseCount), 2)\n",
    "NormOther = round((OtherTotalPurchase/OtherPurchaseCount), 2)\n",
    "\n",
    "PurchasedBySex = {\"Purchase Count\":[MalePurchaseCount,FemalePurchaseCount,OtherPurchaseCount],\n",
    "                    \"Gender\":[\"Male\",\"Female\",\"Other\"],\n",
    "                    \"Average Purchase Price\":[MaleAvgPrice,FemaleAvgPrice,OtherAvgPrice],\n",
    "                    \"Total Purchase Value\":[MaleTotalPurchase,FemaleTotalPurchase,OtherTotalPurchase],\n",
    "                \"Normalized Totals\":[NormMale,NormFemale,NormOther]}\n",
    "PurchasedBySex1 = pd.DataFrame(PurchasedBySex)\n",
    "PurchasedBySex1 = PurchasedBySex1.set_index('Gender')\n",
    "PurchasedBySex1= PurchasedBySex1[['Purchase Count','Average Purchase Price','Total Purchase Value','Normalized Totals']]\n",
    "PurchasedBySex1"
   ]
  },
  {
   "cell_type": "code",
   "execution_count": null,
   "metadata": {},
   "outputs": [],
   "source": []
  }
 ],
 "metadata": {
  "kernelspec": {
   "display_name": "Python 3",
   "language": "python",
   "name": "python3"
  },
  "language_info": {
   "codemirror_mode": {
    "name": "ipython",
    "version": 3
   },
   "file_extension": ".py",
   "mimetype": "text/x-python",
   "name": "python",
   "nbconvert_exporter": "python",
   "pygments_lexer": "ipython3",
   "version": "3.7.1"
  }
 },
 "nbformat": 4,
 "nbformat_minor": 2
}
